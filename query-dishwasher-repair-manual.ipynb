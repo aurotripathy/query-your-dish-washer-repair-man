{
 "cells": [
  {
   "cell_type": "markdown",
   "metadata": {},
   "source": [
    "##### Quick Intro\n",
    "The dataset is scraped from https://www.appliancerepair.net/dishwasher-repair-1.html and follow-on pages.\n",
    "\n",
    "Scraper code is at scraper.py.\n",
    "\n",
    "The embeddings are generated using the [SentenceTransformer](https://www.sbert.net/) package (no finetuning)\n",
    "\n",
    "The overall flow is from \n",
    "https://github.com/openai/openai-cookbook/blob/main/examples/Question_answering_using_embeddings.ipynb\n",
    "\n",
    "The difference is, instead of using OpenAI Curie to create the embeddings, I create embeddings using SBERT and use cosine simialrity to retrieve relevant pieces of text.\n",
    "\n",
    "You'll need an OpenAI key"
   ]
  },
  {
   "cell_type": "code",
   "execution_count": 1,
   "metadata": {},
   "outputs": [],
   "source": [
    "# TODO Add the requirements"
   ]
  },
  {
   "cell_type": "code",
   "execution_count": 2,
   "metadata": {},
   "outputs": [
    {
     "name": "stderr",
     "output_type": "stream",
     "text": [
      "/home/auro/anaconda3/envs/openai/lib/python3.9/site-packages/tqdm/auto.py:22: TqdmWarning: IProgress not found. Please update jupyter and ipywidgets. See https://ipywidgets.readthedocs.io/en/stable/user_install.html\n",
      "  from .autonotebook import tqdm as notebook_tqdm\n"
     ]
    }
   ],
   "source": [
    "import pandas as pd\n",
    "import openai\n",
    "import numpy as np\n",
    "import pickle\n",
    "from sentence_transformers import SentenceTransformer, util"
   ]
  },
  {
   "cell_type": "code",
   "execution_count": 3,
   "metadata": {},
   "outputs": [],
   "source": [
    "def get_embedding(text: str, model: SentenceTransformer) -> list[float]:\n",
    "    embeddings = model.encode([text])\n",
    "    return embeddings\n",
    "\n",
    "def get_doc_embedding(text: str, model: SentenceTransformer) -> list[float]:\n",
    "    return get_embedding(text, model)\n",
    "\n",
    "def get_query_embedding(text: str, model: SentenceTransformer) -> list[float]:\n",
    "    return get_embedding(text, model)\n",
    "\n",
    "def compute_doc_embeddings(df: pd.DataFrame, model: SentenceTransformer) -> dict[tuple[str, str], list[float]]:\n",
    "    \"\"\"\n",
    "    Create an embedding for each row in the dataframe.\n",
    "    Return a dictionary that maps between each embedding vector and the index of the row that it corresponds to.\n",
    "    \"\"\"\n",
    "    return {\n",
    "        idx: get_doc_embedding(r.content.replace(\"\\n\", \" \"), model) for idx, r in df.iterrows()\n",
    "    }\n",
    "\n",
    "def load_embeddings(fname: str) -> dict[tuple[str, str], list[float]]:\n",
    "    \"\"\"\n",
    "    Read the document embeddings and their keys from a CSV.\n",
    "    Again, we have hosted the embeddings for you so you don't have to re-calculate them from scratch.\n",
    "    \n",
    "    fname is the path to a CSV with exactly these named columns: \n",
    "        \"title\", \"heading\", \"0\", \"1\", ... up to the length of the embedding vectors.\n",
    "    \"\"\"\n",
    "    \n",
    "    df = pd.read_csv(fname, header=0)\n",
    "    max_dim = max([int(c) for c in df.columns if c != \"title\" and c != \"heading\"])\n",
    "    return {\n",
    "           (r.title, r.heading): [r[str(i)] for i in range(max_dim + 1)] for _, r in df.iterrows()\n",
    "    }\n"
   ]
  },
  {
   "cell_type": "code",
   "execution_count": 4,
   "metadata": {},
   "outputs": [
    {
     "name": "stdout",
     "output_type": "stream",
     "text": [
      "149 rows in the data.\n"
     ]
    },
    {
     "data": {
      "text/html": [
       "<div>\n",
       "<style scoped>\n",
       "    .dataframe tbody tr th:only-of-type {\n",
       "        vertical-align: middle;\n",
       "    }\n",
       "\n",
       "    .dataframe tbody tr th {\n",
       "        vertical-align: top;\n",
       "    }\n",
       "\n",
       "    .dataframe thead th {\n",
       "        text-align: right;\n",
       "    }\n",
       "</style>\n",
       "<table border=\"1\" class=\"dataframe\">\n",
       "  <thead>\n",
       "    <tr style=\"text-align: right;\">\n",
       "      <th></th>\n",
       "      <th></th>\n",
       "      <th>content</th>\n",
       "      <th>tokens</th>\n",
       "    </tr>\n",
       "    <tr>\n",
       "      <th>title</th>\n",
       "      <th>heading</th>\n",
       "      <th></th>\n",
       "      <th></th>\n",
       "    </tr>\n",
       "  </thead>\n",
       "  <tbody>\n",
       "    <tr>\n",
       "      <th>Chapter_3</th>\n",
       "      <th>160</th>\n",
       "      <td>Fortunately, they are pretty easy to open and...</td>\n",
       "      <td>99</td>\n",
       "    </tr>\n",
       "    <tr>\n",
       "      <th>Chapter_5</th>\n",
       "      <th>302</th>\n",
       "      <td>The solenoid drain flapper valve can get stuc...</td>\n",
       "      <td>78</td>\n",
       "    </tr>\n",
       "    <tr>\n",
       "      <th rowspan=\"2\" valign=\"top\">Chapter_6</th>\n",
       "      <th>408</th>\n",
       "      <td>A motor that is trying to start, but can't fo...</td>\n",
       "      <td>85</td>\n",
       "    </tr>\n",
       "    <tr>\n",
       "      <th>426</th>\n",
       "      <td>Electric heater elements are tested by measur...</td>\n",
       "      <td>104</td>\n",
       "    </tr>\n",
       "    <tr>\n",
       "      <th>Chapter_1</th>\n",
       "      <th>21</th>\n",
       "      <td>WHITE-WESTINGHOUSE DISHWASHERS: Frigidaire or...</td>\n",
       "      <td>76</td>\n",
       "    </tr>\n",
       "    <tr>\n",
       "      <th>Chapter_6</th>\n",
       "      <th>377</th>\n",
       "      <td>Since a burnt out bimetal element is the most...</td>\n",
       "      <td>194</td>\n",
       "    </tr>\n",
       "    <tr>\n",
       "      <th>Chapter_2</th>\n",
       "      <th>101</th>\n",
       "      <td>NOISY OPERATION: Usually it is caused by bits...</td>\n",
       "      <td>71</td>\n",
       "    </tr>\n",
       "    <tr>\n",
       "      <th>Chapter_3</th>\n",
       "      <th>158</th>\n",
       "      <td>AIR GAP: There is also an anti-siphon device,...</td>\n",
       "      <td>97</td>\n",
       "    </tr>\n",
       "    <tr>\n",
       "      <th>Chapter_5</th>\n",
       "      <th>238</th>\n",
       "      <td>The whole pump and motor unit are easily remo...</td>\n",
       "      <td>95</td>\n",
       "    </tr>\n",
       "    <tr>\n",
       "      <th>Chapter_2</th>\n",
       "      <th>127</th>\n",
       "      <td>Touch the two test leads to the two metal con...</td>\n",
       "      <td>99</td>\n",
       "    </tr>\n",
       "  </tbody>\n",
       "</table>\n",
       "</div>"
      ],
      "text/plain": [
       "                                                             content  tokens\n",
       "title     heading                                                           \n",
       "Chapter_3 160       Fortunately, they are pretty easy to open and...      99\n",
       "Chapter_5 302       The solenoid drain flapper valve can get stuc...      78\n",
       "Chapter_6 408       A motor that is trying to start, but can't fo...      85\n",
       "          426       Electric heater elements are tested by measur...     104\n",
       "Chapter_1 21        WHITE-WESTINGHOUSE DISHWASHERS: Frigidaire or...      76\n",
       "Chapter_6 377       Since a burnt out bimetal element is the most...     194\n",
       "Chapter_2 101       NOISY OPERATION: Usually it is caused by bits...      71\n",
       "Chapter_3 158       AIR GAP: There is also an anti-siphon device,...      97\n",
       "Chapter_5 238       The whole pump and motor unit are easily remo...      95\n",
       "Chapter_2 127       Touch the two test leads to the two metal con...      99"
      ]
     },
     "execution_count": 4,
     "metadata": {},
     "output_type": "execute_result"
    }
   ],
   "source": [
    "# The scraper generated the csv file below\n",
    "df = pd.read_csv('dish-washer-data.csv')\n",
    "df[\"tokens\"] = pd.to_numeric(df[\"tokens\"])  # convert column \"tokens\" of a DataFrame\n",
    "df = df.set_index([\"title\", \"heading\"])\n",
    "print(f\"{len(df)} rows in the data.\")\n",
    "df.sample(10)\n",
    "# TODO get some stats on max/min content length\n"
   ]
  },
  {
   "cell_type": "code",
   "execution_count": 5,
   "metadata": {},
   "outputs": [
    {
     "name": "stdout",
     "output_type": "stream",
     "text": [
      "Default sequence length:512\n"
     ]
    }
   ],
   "source": [
    "\n",
    "embeddings_model_path = 'msmarco-distilbert-base-v4'\n",
    "embeddings_model = SentenceTransformer(embeddings_model_path)\n",
    "print(f'Default sequence length:{embeddings_model.max_seq_length}')\n"
   ]
  },
  {
   "cell_type": "code",
   "execution_count": 6,
   "metadata": {},
   "outputs": [
    {
     "name": "stdout",
     "output_type": "stream",
     "text": [
      "(('Chapter_1', 0), array([[ 1.95646733e-01,  3.72972697e-01,  9.61882807e-03,\n",
      "         1.41908005e-01, -3.03954124e-01,  1.15922727e-01,\n",
      "        -6.99446559e-01,  1.99685618e-01, -4.04818654e-02,\n",
      "         3.22092682e-01, -2.82755703e-01,  2.34781846e-01,\n",
      "         1.80957839e-01,  2.18495712e-01, -3.63827020e-01,\n",
      "        -4.82167989e-01,  3.42897862e-01,  3.17553759e-01,\n",
      "        -3.84477705e-01,  3.57638210e-01, -2.96922714e-01,\n",
      "         2.00073391e-01,  2.19163656e-01, -5.23569733e-02,\n",
      "        -1.09712958e+00, -1.92865610e-01, -1.83781117e-01,\n",
      "        -7.97891736e-01, -3.09231579e-01, -7.90245533e-02,\n",
      "         6.69998944e-01, -7.21103013e-01,  4.35627699e-01,\n",
      "        -1.55239373e-01, -2.55490512e-01, -1.05993187e+00,\n",
      "        -3.95875156e-01,  5.42808056e-01,  4.50582683e-01,\n",
      "         9.70260892e-03, -1.37723889e-02,  1.01174951e-01,\n",
      "        -5.57304844e-02, -2.26412967e-01, -4.78484213e-01,\n",
      "         2.64443588e-02, -3.83557379e-01,  3.66135478e-01,\n",
      "        -5.50018668e-01, -2.76738703e-01, -5.68591297e-01,\n",
      "        -5.31926036e-01,  2.35056698e-01, -1.16365291e-01,\n",
      "         5.49995042e-02, -9.09633040e-01, -2.68811315e-01,\n",
      "         8.91099498e-02, -2.91559100e-01,  1.12046767e-02,\n",
      "        -4.18190002e-01,  4.10369307e-01, -1.25353143e-01,\n",
      "        -7.28832185e-02,  2.67218471e-01,  3.15769255e-01,\n",
      "        -2.13535950e-01, -1.67255729e-01,  1.59280643e-01,\n",
      "         1.84448481e-01,  3.18752199e-01,  1.14220358e-01,\n",
      "         6.57744557e-02, -1.26344115e-02, -5.75394809e-01,\n",
      "        -6.71204209e-01, -9.92086157e-02, -3.28928053e-01,\n",
      "         4.51136559e-01, -1.86899975e-01, -1.84948951e-01,\n",
      "         8.57972279e-02, -1.59787506e-01, -3.69467378e-01,\n",
      "        -3.74119610e-01, -2.83236891e-01,  4.50987220e-01,\n",
      "        -4.69857723e-01,  5.89303017e-01, -5.66085279e-01,\n",
      "         3.28422546e-01,  1.93264455e-01,  5.64616263e-01,\n",
      "        -2.04258159e-01, -3.26503873e-01,  7.64515996e-02,\n",
      "        -1.02699317e-01,  1.57828078e-01,  3.55524540e-01,\n",
      "         5.24315059e-01,  1.19471386e-01, -4.55158949e-01,\n",
      "         4.40250009e-01,  2.04519229e-03,  2.47887731e-01,\n",
      "        -1.18763402e-01,  2.69964188e-01,  4.42211956e-01,\n",
      "        -8.10506344e-02,  5.16740501e-01,  2.74468698e-02,\n",
      "         2.38468900e-01, -1.47385642e-01, -2.27009341e-01,\n",
      "         6.65886924e-02,  1.59238875e-02, -1.88853607e-01,\n",
      "         3.53958574e-03, -4.00528386e-02, -4.07479703e-01,\n",
      "         8.99098456e-01,  1.21178314e-01,  1.03637233e-01,\n",
      "        -4.24307048e-01, -3.17012519e-01, -2.08526984e-01,\n",
      "        -5.22825241e-01,  2.71997839e-01, -2.88332999e-01,\n",
      "        -2.54955471e-01,  6.16630316e-01,  3.71890217e-01,\n",
      "        -1.55970275e-01,  3.42834949e-01, -1.06042899e-01,\n",
      "        -5.22378981e-01,  6.44967437e-01, -1.72527879e-01,\n",
      "         4.48736809e-02, -5.82620263e-01, -4.86662209e-01,\n",
      "        -6.47394285e-02, -2.25739903e-04,  9.06409085e-01,\n",
      "        -8.63681316e-01, -8.10167193e-01,  6.09598041e-01,\n",
      "         3.47940266e-01,  3.87427241e-01,  7.01260790e-02,\n",
      "         1.85233951e-01,  6.57033801e-01, -3.47951502e-01,\n",
      "        -1.38465762e-01,  3.48909587e-01, -1.12264164e-01,\n",
      "         5.44783950e-01, -2.17056051e-01, -6.47130966e-01,\n",
      "        -5.22408128e-01, -1.32230639e-01, -1.96135461e-01,\n",
      "        -8.17689657e-01, -1.85799226e-01,  2.90290058e-01,\n",
      "        -5.54344535e-01,  1.11143142e-01, -1.75988629e-01,\n",
      "        -1.38633996e-01, -5.86837791e-02,  5.00002563e-01,\n",
      "        -1.70335352e-01, -7.84522653e-01,  4.78514016e-01,\n",
      "         4.54180419e-01,  5.12228549e-01, -1.98168144e-01,\n",
      "         2.49380440e-01, -5.17674088e-02,  2.12311015e-01,\n",
      "         8.42601180e-01,  4.50188965e-01, -6.74783215e-02,\n",
      "        -7.31475651e-02, -1.38704076e-01, -1.18249834e-01,\n",
      "        -1.90866202e-01,  3.77962857e-01, -5.21746576e-01,\n",
      "         2.06398651e-01, -6.65949881e-01,  9.77740064e-02,\n",
      "        -6.75335079e-02,  1.87117204e-01, -3.45778883e-01,\n",
      "         4.64719348e-02, -1.04899546e-02,  1.27510393e+00,\n",
      "         5.67734301e-01, -4.16578911e-02,  2.90937394e-01,\n",
      "         5.19017428e-02, -2.81508267e-01,  3.42995487e-02,\n",
      "        -4.88157392e-01,  2.16291144e-01,  1.09237701e-01,\n",
      "         3.10909837e-01,  2.62590528e-01,  1.50898740e-01,\n",
      "         7.64466286e-01, -2.07616299e-01,  2.16915056e-01,\n",
      "         4.25965413e-02, -8.29609871e-01, -8.98173675e-02,\n",
      "        -4.64664429e-01, -3.26518595e-01,  3.42416704e-01,\n",
      "        -6.83526918e-02,  6.43041283e-02,  3.11608762e-01,\n",
      "         2.70167708e-01,  1.87590972e-01, -1.60242230e-01,\n",
      "        -3.08243632e-01,  3.05285186e-01, -2.51774818e-01,\n",
      "        -4.48035359e-01,  3.69409323e-01, -1.42705411e-01,\n",
      "        -1.66771665e-01, -3.17753077e-01, -7.82734901e-02,\n",
      "        -5.80679365e-02, -2.55501300e-01,  9.07422185e-01,\n",
      "         3.32756877e-01, -2.50377327e-01,  5.06685853e-01,\n",
      "         3.99656966e-02, -3.88584852e-01, -3.93757135e-01,\n",
      "         2.56817490e-01, -1.83244467e-01,  5.23621976e-01,\n",
      "        -1.34038880e-01,  1.01705659e-02, -3.35386246e-01,\n",
      "         8.98346305e-02,  1.76586866e-01,  2.38769829e-01,\n",
      "         4.48792204e-02,  7.37048745e-01,  5.36623716e-01,\n",
      "        -1.63547561e-01, -4.81400281e-01,  1.83093753e-02,\n",
      "         2.24820361e-01,  1.97127432e-01, -6.39989853e-01,\n",
      "         6.63421810e-01, -5.80213130e-01, -1.95976600e-01,\n",
      "        -5.20729199e-02, -2.79559523e-01, -4.62236494e-01,\n",
      "        -1.24871172e-01,  4.08761322e-01, -2.41326094e-01,\n",
      "         4.90689039e-01,  4.78334874e-01, -1.52556732e-01,\n",
      "        -5.20963013e-01, -1.82900488e-01,  6.60709560e-01,\n",
      "        -1.51056752e-01,  2.70831287e-01,  2.48850077e-01,\n",
      "        -1.40099466e-01,  3.69412720e-01,  3.28227818e-01,\n",
      "        -3.58375371e-01, -6.38799518e-02,  3.45239602e-02,\n",
      "        -5.30316770e-01,  4.54456449e-01,  2.35479638e-01,\n",
      "        -5.79993010e-01,  4.82162327e-01, -9.78811011e-02,\n",
      "         1.47400364e-01,  2.17046037e-01, -2.89305866e-01,\n",
      "        -1.57519341e-01, -6.17859811e-02,  5.64322054e-01,\n",
      "        -5.68686128e-01,  1.80441901e-01, -2.30516195e-01,\n",
      "        -1.28210232e-01, -2.86806792e-01,  7.01592982e-01,\n",
      "         1.56471446e-01, -3.50029469e-01, -3.64767253e-01,\n",
      "         2.18329445e-01,  4.13376354e-02, -7.52090752e-01,\n",
      "        -1.26388669e-01,  4.67197239e-01,  1.21549226e-01,\n",
      "        -2.57834226e-01, -5.39414227e-01,  2.44249284e-01,\n",
      "         1.06124029e-01,  1.12092420e-01,  2.49228373e-01,\n",
      "         4.67600644e-01,  3.51593703e-01,  7.60724470e-02,\n",
      "         8.97867531e-02, -1.82908282e-01, -3.36644769e-01,\n",
      "         2.95237064e-01, -4.88205045e-01,  1.84391290e-01,\n",
      "        -5.84716201e-02, -1.42264888e-01, -4.06179458e-01,\n",
      "        -1.17209196e-01, -5.94910644e-02, -3.07796802e-02,\n",
      "        -1.27951935e-01,  2.90787786e-01,  2.59273559e-01,\n",
      "        -1.57020092e-01, -3.20508152e-01, -6.20769680e-01,\n",
      "         2.73256361e-01,  4.50532977e-03, -3.52339536e-01,\n",
      "        -1.75551996e-01, -7.52192557e-01,  1.38076812e-01,\n",
      "        -2.13464186e-01, -4.29091394e-01,  2.40598604e-01,\n",
      "         4.49051894e-02, -5.05110919e-01,  3.70587379e-01,\n",
      "         3.39232743e-01, -4.92011994e-01, -4.20965523e-01,\n",
      "        -3.33784640e-01,  5.07052578e-02,  3.14434499e-01,\n",
      "        -3.87868285e-01, -7.47017339e-02,  1.77356657e-02,\n",
      "         1.30589163e+00, -2.57258955e-02, -7.60942042e-01,\n",
      "        -2.52286136e-01,  1.44998044e-01, -8.11770409e-02,\n",
      "        -4.51561272e-01,  6.77773282e-02, -6.38977051e-01,\n",
      "        -4.13069278e-01, -6.39227390e-01,  1.28633142e-01,\n",
      "        -1.52476147e-01,  6.70210600e-01,  4.38754112e-02,\n",
      "        -3.73733252e-01, -3.60693425e-01,  4.84999597e-01,\n",
      "         3.27025317e-02, -1.22529991e-01,  2.30681852e-01,\n",
      "        -1.40630960e-01,  7.50820637e-01, -1.81297749e-01,\n",
      "        -2.88533062e-01,  3.62111986e-01,  5.04065335e-01,\n",
      "        -5.56478381e-01,  5.74210612e-03,  3.12876999e-01,\n",
      "        -6.46542683e-02,  5.07653952e-01,  9.01236832e-02,\n",
      "        -1.58433497e-01,  2.73206201e-03, -8.13012049e-02,\n",
      "        -1.37755990e-01,  5.14835835e-01,  7.62822688e-01,\n",
      "         8.07491362e-01,  1.27047151e-01,  2.72349656e-01,\n",
      "         1.28880262e-01, -5.21053262e-02,  4.61608589e-01,\n",
      "         3.56477350e-01, -1.24761805e-01,  3.58960003e-01,\n",
      "        -6.23540357e-02,  3.59702229e-01, -2.87661344e-01,\n",
      "        -3.32111448e-01,  6.73528686e-02, -3.95933539e-01,\n",
      "        -1.81209236e-01,  7.20450044e-01, -6.86791316e-02,\n",
      "        -5.31950951e-01, -1.54260337e-01,  9.53996122e-01,\n",
      "        -6.14220142e-01, -1.82993740e-01, -1.95197519e-02,\n",
      "         3.22219759e-01,  5.27966581e-02,  2.10196391e-01,\n",
      "         3.29537600e-01,  5.36831915e-01, -2.70401120e-01,\n",
      "         7.38351643e-01,  7.40425944e-01, -9.99024324e-03,\n",
      "        -3.43902409e-02,  5.80366254e-01,  2.21561626e-01,\n",
      "         2.90993631e-01,  2.67289668e-01, -3.19793940e-01,\n",
      "         8.11622292e-03,  2.98171401e-01,  2.43329078e-01,\n",
      "        -2.26616874e-01, -2.20917225e-01, -7.38722831e-02,\n",
      "         3.63879614e-02,  8.18755850e-02, -6.20791137e-01,\n",
      "        -2.90694147e-01, -1.89047784e-01, -6.55369982e-02,\n",
      "         5.52521236e-02,  8.95311177e-01, -1.65329520e-02,\n",
      "        -9.11298767e-02,  2.14174986e-01,  8.15720737e-01,\n",
      "         7.01664925e-01,  1.17251955e-01,  2.87842274e-01,\n",
      "        -2.72868931e-01,  7.59995133e-02,  5.37625611e-01,\n",
      "         1.87671393e-01,  3.16678703e-01, -1.58976451e-01,\n",
      "         2.47160673e-01,  1.73016042e-01,  2.73486916e-02,\n",
      "         7.04967976e-02, -4.62608933e-01, -1.55978650e-01,\n",
      "         1.90742865e-01,  2.18428656e-01,  7.35290706e-01,\n",
      "        -3.30931395e-01, -3.50316942e-01, -2.49044746e-01,\n",
      "         9.67027545e-02,  5.86923994e-02,  1.30809343e+00,\n",
      "         1.58667386e-01,  8.53243828e-01,  2.78499871e-01,\n",
      "        -2.42942229e-01,  3.58843654e-01,  7.34932780e-01,\n",
      "        -7.12498799e-02, -2.58772194e-01, -2.58948475e-01,\n",
      "        -1.14492059e-01, -4.83954772e-02,  1.60286441e-01,\n",
      "         5.94026566e-01,  4.43987548e-01,  2.06798211e-01,\n",
      "         3.39590937e-01, -2.67368078e-01, -6.21309221e-01,\n",
      "        -3.02522063e-01,  3.06818545e-01,  2.36882605e-02,\n",
      "        -2.99269587e-01, -1.37077466e-01,  7.48940855e-02,\n",
      "         1.33214995e-01,  9.12129786e-03,  5.84827140e-02,\n",
      "         7.51110852e-01, -1.94312349e-01, -7.34164044e-02,\n",
      "        -1.41542360e-01,  2.11742185e-02,  5.88121176e-01,\n",
      "        -4.57087070e-01, -3.56237054e-01, -6.42523885e-01,\n",
      "        -2.68198401e-01, -9.48620588e-02, -4.28759083e-02,\n",
      "         7.24008977e-01,  3.57669115e-01,  2.42455810e-01,\n",
      "        -4.09846991e-01, -7.64376700e-01, -1.49063334e-01,\n",
      "         4.29258972e-01,  4.20590907e-01, -1.33320794e-01,\n",
      "         6.61391243e-02, -1.09640516e-01,  2.41425529e-01,\n",
      "        -7.44929984e-02,  2.16658682e-01,  1.73681885e-01,\n",
      "        -1.61641940e-01,  5.79711534e-02,  7.72732854e-01,\n",
      "        -6.02149189e-01, -9.45706129e-01,  3.50254774e-01,\n",
      "        -1.47802159e-01, -1.59021750e-01, -9.56125081e-01,\n",
      "         2.12288395e-01,  9.19523656e-01,  9.37347412e-01,\n",
      "        -6.32473171e-01, -8.33105892e-02,  3.48838121e-01,\n",
      "        -6.39920056e-01, -4.02989686e-01,  3.05948049e-01,\n",
      "        -1.00351863e-01,  5.64200103e-01, -3.51487577e-01,\n",
      "        -8.35781157e-01, -5.52689195e-01, -2.17757989e-02,\n",
      "        -1.11568712e-01, -1.52490526e-01, -1.18813805e-01,\n",
      "        -2.60327250e-01,  6.07563078e-01, -5.72219551e-01,\n",
      "        -1.73794284e-01, -3.08237314e-01, -2.80080408e-01,\n",
      "        -1.91463791e-02, -2.58052945e-01, -1.12573192e-01,\n",
      "        -1.25854775e-01,  2.73279157e-02, -7.61411190e-02,\n",
      "        -1.09749973e-01,  5.24396062e-01,  4.45934892e-01,\n",
      "        -3.73375356e-01,  3.74976367e-01, -3.75801086e-01,\n",
      "        -1.00032449e-01, -4.71078634e-01,  8.63925442e-02,\n",
      "         7.58017957e-01, -1.55564487e-01, -7.92143703e-01,\n",
      "         1.60365790e-01,  6.16223663e-02,  1.88886911e-01,\n",
      "         2.58261383e-01, -3.59358877e-01,  9.19861495e-02,\n",
      "        -7.93049872e-01,  2.00244352e-01,  5.84724806e-02,\n",
      "         3.36550236e-01, -3.90005499e-01, -3.92569333e-01,\n",
      "         1.82344273e-01, -3.68962318e-01, -1.32954374e-01,\n",
      "         1.16633475e+00, -5.72987199e-01,  3.70118588e-01,\n",
      "        -5.63847572e-02, -1.65695384e-01,  1.37639448e-01,\n",
      "         1.55092612e-01, -9.18606997e-01,  8.04642662e-02,\n",
      "        -3.22066575e-01, -4.42626268e-01,  2.60756642e-01,\n",
      "        -1.16749480e-01,  5.17729342e-01,  2.49095425e-01,\n",
      "        -3.83125961e-01, -7.66516104e-02, -1.19165713e-02,\n",
      "         1.28127530e-01, -5.64892665e-02,  1.63409919e-01,\n",
      "        -6.52134717e-01,  7.79835805e-02,  5.63339829e-01,\n",
      "         5.04244506e-01, -6.61063492e-02, -5.56431711e-01,\n",
      "        -1.75859943e-01,  4.84644055e-01, -5.86999595e-01,\n",
      "        -1.01770186e+00,  2.88629439e-02,  3.49308193e-01,\n",
      "        -1.47303656e-01, -3.42361569e-01, -6.11261904e-01,\n",
      "         5.22921085e-01,  5.17526567e-02, -6.65759444e-01,\n",
      "         2.42082357e-01, -7.89156631e-02, -1.06289968e-01,\n",
      "        -1.94458246e-01,  3.68406981e-01, -6.19551577e-02,\n",
      "        -4.88947809e-01,  3.75881881e-01,  1.94872409e-01,\n",
      "         1.52896987e-02,  3.61034930e-01,  6.01313055e-01,\n",
      "        -1.68727949e-01, -1.95268057e-02,  3.87373507e-01,\n",
      "         3.75039935e-01,  3.25290769e-01, -4.46256399e-01,\n",
      "        -1.80621266e-01, -3.94632041e-01, -4.68328670e-02,\n",
      "        -1.37783214e-01, -5.03095165e-02,  5.86605787e-01,\n",
      "         2.58244853e-03, -4.01206881e-01, -2.94396758e-01,\n",
      "         6.94065034e-01,  1.76561192e-01, -2.89025247e-01,\n",
      "         9.82789993e-02, -4.04057026e-01, -6.47379085e-02,\n",
      "        -1.96408518e-02,  1.88989088e-01, -3.78239006e-01,\n",
      "        -4.01726365e-01,  3.75986397e-01,  1.32179841e-01,\n",
      "         1.30082816e-01, -2.22160921e-01,  3.43220621e-01,\n",
      "        -4.48850393e-01, -9.73888393e-03,  4.21378911e-02,\n",
      "         1.55084535e-01, -6.23543980e-03,  4.63409185e-01,\n",
      "         3.88462543e-01,  7.73399696e-02, -6.41313791e-02,\n",
      "        -8.08311328e-02,  7.20881894e-02, -2.45907173e-01,\n",
      "         5.71644604e-01, -3.83547038e-01,  4.60151494e-01,\n",
      "        -1.00243807e-01, -1.27646685e-01, -1.60484463e-01,\n",
      "         2.63972700e-01, -5.56376517e-01, -7.76109695e-02,\n",
      "        -8.88991430e-02, -1.07770242e-01, -2.71263272e-01,\n",
      "        -2.31529579e-01, -2.09182546e-01, -2.88044959e-01,\n",
      "        -9.25578326e-02,  6.11104429e-01,  1.23024511e+00,\n",
      "         1.89291298e-01,  7.29899779e-02,  7.73446858e-02,\n",
      "         1.03602197e-03, -8.36408138e-02, -7.35171497e-01,\n",
      "        -1.02170162e-01,  3.99247333e-02, -4.68140632e-01,\n",
      "        -1.51028350e-01, -5.30607760e-01,  3.64862144e-01,\n",
      "         3.66702117e-02, -3.80762853e-02, -3.77549648e-01,\n",
      "        -1.57589853e-01, -4.25044745e-01, -1.17146805e-01,\n",
      "        -3.37089933e-02, -7.23518878e-02, -2.83208489e-01,\n",
      "        -3.84359062e-01, -6.17803812e-01,  3.69229019e-01,\n",
      "        -2.22723573e-01, -9.52556878e-02,  2.35880271e-01,\n",
      "         5.99239720e-04, -6.22122027e-02,  8.79730564e-03,\n",
      "        -3.73721600e-01,  3.74823779e-01,  3.19604993e-01,\n",
      "         3.68863851e-01, -9.24511015e-01, -4.91071641e-02,\n",
      "         5.92676163e-01, -4.34016585e-01, -5.83603457e-02,\n",
      "        -1.24109268e-01,  3.71210843e-01,  2.06364781e-01,\n",
      "         2.23008305e-01,  6.21410459e-02,  3.10710073e-01,\n",
      "         8.52442831e-02,  5.24953723e-01, -3.45272087e-02,\n",
      "         2.34852359e-01,  6.14846170e-01, -4.53954637e-01,\n",
      "        -5.01446426e-01,  2.42202684e-01,  7.61994183e-01,\n",
      "        -3.32053304e-01,  4.02642459e-01,  8.15774221e-03]], dtype=float32))\n"
     ]
    }
   ],
   "source": [
    "# This could take a bit of time\n",
    "document_embeddings = compute_doc_embeddings(df, embeddings_model)\n",
    "\n",
    "# An example embedding:\n",
    "example_entry = list(document_embeddings.items())[0]\n",
    "print(example_entry)\n"
   ]
  },
  {
   "cell_type": "code",
   "execution_count": 7,
   "metadata": {},
   "outputs": [
    {
     "name": "stdout",
     "output_type": "stream",
     "text": [
      "Total documents, 149\n"
     ]
    }
   ],
   "source": [
    "print(f'Total documents, {len(document_embeddings)}')"
   ]
  },
  {
   "cell_type": "code",
   "execution_count": 8,
   "metadata": {},
   "outputs": [],
   "source": [
    "def vector_similarity(x: list[float], y: list[float]) -> float:\n",
    "    \"\"\"\n",
    "    We use cosine similarity \n",
    "    \"\"\"\n",
    "    return util.cos_sim(x,y)\n",
    "\n",
    "def order_document_sections_by_query_similarity(query: str, contexts: dict[(str, str), np.array], model: SentenceTransformer) -> list[(float, (str, str))]:\n",
    "    \"\"\"\n",
    "    Find the query embedding for the supplied query, and compare it against all of the pre-calculated document embeddings\n",
    "    to find the most relevant sections. \n",
    "    \n",
    "    Return the list of document sections, sorted by relevance in descending order.\n",
    "    \"\"\"\n",
    "    query_embedding = get_query_embedding(query, model)\n",
    "    \n",
    "    document_similarities = sorted([\n",
    "        (vector_similarity(query_embedding, doc_embedding), doc_index) for doc_index, doc_embedding in contexts.items()\n",
    "    ], reverse=True)\n",
    "    \n",
    "    return document_similarities\n",
    "\n"
   ]
  },
  {
   "cell_type": "code",
   "execution_count": 9,
   "metadata": {},
   "outputs": [
    {
     "name": "stdout",
     "output_type": "stream",
     "text": [
      "index: ('Chapter_4', 190) [0]   There are two general areas where you will commonly find water leaking from a dishwasher. The first is from around the door; water will generally show up on the kitchen floor in front of the dishwasher. The second is from some component under the tub. The most common sources are pump seals and water valves, though it really can come from just about anything else under there, such as heater mounts, float switches, dryer fans, hoses, etc.\n",
      "index: ('Chapter_2', 81) [1]   POOR WASH QUALITY: This is the most common complaint in a dishwasher. It covers a lot of different specific symptoms, from spotting, film or etching of the dishes to food left on dishes. It is discussed in detail in Chapter 3. NO POWER; MOTOR WON'T START: First check the house breaker or fuse. Next, make sure that the dishwasher is plugged into the correct wall socket. (See the note in section 5-2 for an explanation)\n",
      "index: ('Chapter_4', 191) [2]   A slow, under-tub leak may go years without being detected. Often the tile or linoleum in front of the dishwasher is slightly raised, and water does not flow uphill. A slow leak beneath the tub can rot a wooden floor or cabinetry. It can also cause odors, mildew, etc. Often the first sign you might see is water leaking under the cabinetry and into the space beneath the kitchen sink.\n",
      "index: ('Chapter_3', 145) [3]   NOTE: This Chapter assumes that the motor is running and you hear water whooshing around inside the machine! If not, go back to chapter 2 and troubleshoot ! Poor wash quality mainly involves heavy spotting and filming or etching of the dishes. It can usually be traced to cold water or excessively hot, hard or soft water, poor detergent, or inadequate drying. Washing dishes in a dishwasher is not just a matter of blowing hot water at them. It is not just simply a mechanical or hydraulic process. It is also a chemical process. The chemicals you use in your dishwasher, from detergent to rinse agent, are extremely critical. And the temperature of the water that dissolves and carries these chemicals is critical as well.\n",
      "index: ('Chapter_1', 2) [4]   The main reason dishwashers exist is that they allow dishes to be washed in water much hotter than you can use when washing dishes by hand. This allows greater grease-cutting and sterilization of the dishes. They are NOT made to operate under cold water conditions or to ingest your disgusting, moldy leftovers, no matter what the sales literature says. And using cheap soap and hard water (without making some adjustments) can shorten their lives considerably.\n"
     ]
    }
   ],
   "source": [
    "# ask a question and get top_k relevant text\n",
    "top_k = 5\n",
    "by_semantic_relevance = order_document_sections_by_query_similarity(\"Why is my dishwasher leaking?\", document_embeddings, embeddings_model)[:top_k]\n",
    "for i in range(top_k):\n",
    "    index = by_semantic_relevance[i][1]  # index\n",
    "    print(f\"index: {index} {[i]}:  {df.loc[index]['content']}\")\n"
   ]
  },
  {
   "cell_type": "code",
   "execution_count": 10,
   "metadata": {},
   "outputs": [
    {
     "name": "stdout",
     "output_type": "stream",
     "text": [
      "[0]  NOTE: This Chapter assumes that the motor is running and you hear water whooshing around inside the machine! If not, go back to chapter 2 and troubleshoot ! Poor wash quality mainly involves heavy spotting and filming or etching of the dishes. It can usually be traced to cold water or excessively hot, hard or soft water, poor detergent, or inadequate drying. Washing dishes in a dishwasher is not just a matter of blowing hot water at them. It is not just simply a mechanical or hydraulic process. It is also a chemical process. The chemicals you use in your dishwasher, from detergent to rinse agent, are extremely critical. And the temperature of the water that dissolves and carries these chemicals is critical as well.\n",
      "[1]  POOR WASH QUALITY: This is the most common complaint in a dishwasher. It covers a lot of different specific symptoms, from spotting, film or etching of the dishes to food left on dishes. It is discussed in detail in Chapter 3. NO POWER; MOTOR WON'T START: First check the house breaker or fuse. Next, make sure that the dishwasher is plugged into the correct wall socket. (See the note in section 5-2 for an explanation)\n",
      "[2]  The main reason dishwashers exist is that they allow dishes to be washed in water much hotter than you can use when washing dishes by hand. This allows greater grease-cutting and sterilization of the dishes. They are NOT made to operate under cold water conditions or to ingest your disgusting, moldy leftovers, no matter what the sales literature says. And using cheap soap and hard water (without making some adjustments) can shorten their lives considerably.\n",
      "[3]  DRYER BLOWER INOPERATIVE: Excessive spotting may mean the dryer blower or heater is not working. Test the motor or heater as described in section 6-2(d) and (g) and replace if defective. IMPROPER LOADING: Loading the dishwasher improperly can cause all sorts of problems, from blockage of the waterspray to dish or pump damage. Make sure the dishes are loaded properly as described in section 2-2, preventive maintenance. There are certain types of dishes that you should NOT wash in your dishwasher under any circumstances. For example, certain kinds of \"darkening\" in fine silverware is normal, and does not indicate a problem with your dishwasher. Other things to watch out for:\n",
      "[4]  It's important to know that washing dishes in a dishwasher is not just a matter of blowing hot water at them. It is not just simply a mechanical or hydraulic process. It is also a chemical process. The chemicals you use, from detergent to rinse agent, are extremely critical. I recommend you use the following stuff regularly: 1) Use dry (powder) Cascade\"â¢. The real stuff. Do not use liquid detergent. And especially do not use regular liquid dishsoap.\n"
     ]
    }
   ],
   "source": [
    "# ask another question\n",
    "top_k = 5\n",
    "by_semantic_relevance = order_document_sections_by_query_similarity(\"Why is my dish washer not cleaning well?\", document_embeddings, embeddings_model)[:top_k]\n",
    "for i in range(top_k):\n",
    "    index = by_semantic_relevance[i][1]  # [0] similarity [1]index\n",
    "    print(f\"{[i]} {df.loc[index]['content']}\")"
   ]
  },
  {
   "cell_type": "code",
   "execution_count": 11,
   "metadata": {},
   "outputs": [
    {
     "data": {
      "text/plain": [
       "'Context separator contains 3 tokens'"
      ]
     },
     "execution_count": 11,
     "metadata": {},
     "output_type": "execute_result"
    }
   ],
   "source": [
    "# TODO what is this?\n",
    "from transformers import GPT2TokenizerFast\n",
    "MAX_SECTION_LEN = 500\n",
    "SEPARATOR = \"\\n* \"\n",
    "\n",
    "tokenizer = GPT2TokenizerFast.from_pretrained(\"gpt2\")\n",
    "separator_len = len(tokenizer.tokenize(SEPARATOR))\n",
    "\n",
    "f\"Context separator contains {separator_len} tokens\""
   ]
  },
  {
   "cell_type": "code",
   "execution_count": 12,
   "metadata": {},
   "outputs": [],
   "source": [
    "def construct_prompt(question: str, context_embeddings: dict, df: pd.DataFrame, embeddings_model: SentenceTransformer) -> str:\n",
    "    \"\"\"\n",
    "    Fetch relevant \n",
    "    \"\"\"\n",
    "    most_relevant_document_sections = order_document_sections_by_query_similarity(question, context_embeddings, embeddings_model)\n",
    "    \n",
    "    chosen_sections = []\n",
    "    chosen_sections_len = 0\n",
    "    chosen_sections_indexes = []\n",
    "     \n",
    "    for _, section_index in most_relevant_document_sections:\n",
    "        \n",
    "        # Add contexts until we run out of space.        \n",
    "        document_section = df.loc[section_index]\n",
    "\n",
    "        chosen_sections_len += document_section.tokens + separator_len\n",
    "        if chosen_sections_len > MAX_SECTION_LEN:\n",
    "            # print(f'Enough context---run out of length of {MAX_SECTION_LEN}')\n",
    "            break\n",
    "            \n",
    "        chosen_sections.append(SEPARATOR + document_section['content'].replace(\"\\n\", \" \"))\n",
    "        chosen_sections_indexes.append(str(section_index))\n",
    "            \n",
    "    # Useful diagnostic information\n",
    "    # print(f\"Selected {len(chosen_sections)} document sections:\")\n",
    "    # print(\"\\n\".join(chosen_sections_indexes))\n",
    "    \n",
    "    # The context\n",
    "    header = \"\"\"Answer the question as truthfully as possible using the provided context, and if the answer is not contained within the text below, say \"I don't know.\"\\n\\nContext:\\n\"\"\"\n",
    "    return header + \"\".join(chosen_sections) + \"\\n\\n Q: \" + question + \"\\n A:\""
   ]
  },
  {
   "cell_type": "code",
   "execution_count": 13,
   "metadata": {},
   "outputs": [
    {
     "name": "stdout",
     "output_type": "stream",
     "text": [
      "===\n",
      " Answer the question as truthfully as possible using the provided context, and if the answer is not contained within the text below, say \"I don't know.\"\n",
      "\n",
      "Context:\n",
      "\n",
      "*  There are two general areas where you will commonly find water leaking from a dishwasher. The first is from around the door; water will generally show up on the kitchen floor in front of the dishwasher. The second is from some component under the tub. The most common sources are pump seals and water valves, though it really can come from just about anything else under there, such as heater mounts, float switches, dryer fans, hoses, etc.\n",
      "*  POOR WASH QUALITY: This is the most common complaint in a dishwasher. It covers a lot of different specific symptoms, from spotting, film or etching of the dishes to food left on dishes. It is discussed in detail in Chapter 3. NO POWER; MOTOR WON'T START: First check the house breaker or fuse. Next, make sure that the dishwasher is plugged into the correct wall socket. (See the note in section 5-2 for an explanation)\n",
      "*  A slow, under-tub leak may go years without being detected. Often the tile or linoleum in front of the dishwasher is slightly raised, and water does not flow uphill. A slow leak beneath the tub can rot a wooden floor or cabinetry. It can also cause odors, mildew, etc. Often the first sign you might see is water leaking under the cabinetry and into the space beneath the kitchen sink.\n",
      "*  A third source of water \"leakage\" (though it really isn't a leak) is from the air gap. The air gap is an anti-backflow device installed in the drain line, to prevent the dishwasher from accidentally siphoning fluid from your house's sewer line back into the dishwasher tub. If this air gap or the house's drain line becomes clogged, water can run out of the air vent, and generally it runs straight into your sink. Note, however, that this will only occur when the dishwasher is operating in the \"pumpout\" mode, trying to drain the tub. There is an illustration and discussion of the air gap in section 3-1.\n",
      "*  DRYER BLOWER INOPERATIVE: Excessive spotting may mean the dryer blower or heater is not working. Test the motor or heater as described in section 6-2(d) and (g) and replace if defective. IMPROPER LOADING: Loading the dishwasher improperly can cause all sorts of problems, from blockage of the waterspray to dish or pump damage. Make sure the dishes are loaded properly as described in section 2-2, preventive maintenance. There are certain types of dishes that you should NOT wash in your dishwasher under any circumstances. For example, certain kinds of \"darkening\" in fine silverware is normal, and does not indicate a problem with your dishwasher. Other things to watch out for:\n",
      "\n",
      " Q: Why is my dish wasker leaking?\n",
      " A:\n"
     ]
    }
   ],
   "source": [
    "# Try out the prompt\n",
    "prompt = construct_prompt(\n",
    "    \"Why is my dish wasker leaking?\",\n",
    "    document_embeddings,\n",
    "    df,\n",
    "    embeddings_model\n",
    ")\n",
    "\n",
    "print(\"===\\n\", prompt)"
   ]
  },
  {
   "cell_type": "code",
   "execution_count": 14,
   "metadata": {},
   "outputs": [],
   "source": [
    "\n",
    "COMPLETIONS_MODEL = \"text-davinci-002\"\n",
    "COMPLETIONS_API_PARAMS = {\n",
    "    # We use temperature of 0.0 because it gives the most predictable, factual answer.\n",
    "    \"temperature\": 0.0,\n",
    "    \"max_tokens\": 200,\n",
    "    \"model\": COMPLETIONS_MODEL,\n",
    "}"
   ]
  },
  {
   "cell_type": "markdown",
   "metadata": {},
   "source": [
    "### Answering the question from a context"
   ]
  },
  {
   "cell_type": "code",
   "execution_count": 15,
   "metadata": {},
   "outputs": [],
   "source": [
    "import os\n",
    "import openai\n",
    "\n",
    "openai.api_key = os.environ[\"OPENAI_API_KEY\"]"
   ]
  },
  {
   "cell_type": "code",
   "execution_count": 16,
   "metadata": {},
   "outputs": [],
   "source": [
    "\n",
    "def answer_query_from_context(\n",
    "    query: str,\n",
    "    df: pd.DataFrame,\n",
    "    document_embeddings: dict[(str, str), np.array],\n",
    "    show_prompt: bool = False\n",
    ") -> str:\n",
    "    prompt = construct_prompt(\n",
    "        query,\n",
    "        document_embeddings,\n",
    "        df,\n",
    "        embeddings_model\n",
    "    )\n",
    "    \n",
    "    if show_prompt:\n",
    "        print(prompt)\n",
    "\n",
    "    response = openai.Completion.create(\n",
    "                prompt=prompt,\n",
    "                **COMPLETIONS_API_PARAMS\n",
    "            )\n",
    "\n",
    "    return response[\"choices\"][0][\"text\"].strip(\" \\n\")\n",
    "\n"
   ]
  },
  {
   "cell_type": "code",
   "execution_count": 17,
   "metadata": {},
   "outputs": [
    {
     "name": "stdout",
     "output_type": "stream",
     "text": [
      "Answer the question as truthfully as possible using the provided context, and if the answer is not contained within the text below, say \"I don't know.\"\n",
      "\n",
      "Context:\n",
      "\n",
      "*  A third source of water \"leakage\" (though it really isn't a leak) is from the air gap. The air gap is an anti-backflow device installed in the drain line, to prevent the dishwasher from accidentally siphoning fluid from your house's sewer line back into the dishwasher tub. If this air gap or the house's drain line becomes clogged, water can run out of the air vent, and generally it runs straight into your sink. Note, however, that this will only occur when the dishwasher is operating in the \"pumpout\" mode, trying to drain the tub. There is an illustration and discussion of the air gap in section 3-1.\n",
      "*  AIR GAP: There is also an anti-siphon device, called an air gap, built into the drain line. It is required by law in most installations. It prevents accidental backflow (siphoning) into the dishwasher from the house drain lines. A typical air gap re-directs water 180 degrees, and thus it has constrictions that can easily trap a chunk of food trying to pass through it. Symptoms are the same as for any other blockage of the drain line, except that you may also see water flowing out of the air gap vents directly into the sink.\n",
      "*  There are two general areas where you will commonly find water leaking from a dishwasher. The first is from around the door; water will generally show up on the kitchen floor in front of the dishwasher. The second is from some component under the tub. The most common sources are pump seals and water valves, though it really can come from just about anything else under there, such as heater mounts, float switches, dryer fans, hoses, etc.\n",
      "*  Pump seal leaks will show up as water dripping from the motor or pump housing. (Or from the pump pulley in Maytag machines.) It may also get slung around a bit from a rotating pump shaft. The solution is to rebuild the pump. In some designs, you pull the whole motor and pump unit and replace it with a new or rebuilt unit. See Chapter 5 for details. On rare occasions, the leak will be coming from the sealing washers around tub heater mounts, dryer blower gaskets, or other small tub penetrations. You need to replace the gasket or seal. Drain or recirculation hoses have been known to get old and brittle and crack open. Replace the hose.\n",
      "\n",
      " Q: What are the ways to prevent water leakage?\n",
      " A:\n",
      "====Answer\n",
      "\" The air gap is an anti-backflow device installed in the drain line, to prevent the dishwasher from accidentally siphoning fluid from your house's sewer line back into the dishwasher tub. If this air gap or the house's drain line becomes clogged, water can run out of the air vent, and generally it runs straight into your sink.\n"
     ]
    }
   ],
   "source": [
    "# response = answer_query_with_context(\"Who won the 2020 Summer Olympics men's high jump?\", df, document_embeddings)\n",
    "from scipy.__config__ import show\n",
    "\n",
    "\n",
    "response = answer_query_from_context(\"What are the ways to prevent water leakage?\", df, document_embeddings, show_prompt=True)\n",
    "\n",
    "answer = response[0:len(response) + 1].split('A:')[-1].strip()\n",
    "\n",
    "print(f'====Answer\\n\" {answer}')"
   ]
  },
  {
   "cell_type": "code",
   "execution_count": 18,
   "metadata": {},
   "outputs": [
    {
     "name": "stdout",
     "output_type": "stream",
     "text": [
      "Answer the question as truthfully as possible using the provided context, and if the answer is not contained within the text below, say \"I don't know.\"\n",
      "\n",
      "Context:\n",
      "\n",
      "*  Sometimes you can eliminate possibilities just simply be studying the wiring diagram for a few minutes. For example, let's say your timer is not advancing during any cycle. Following the gray line in figure 6-C, the timer is fed through three different circuits. Sometimes it gets its power through timer switch 22, sometimes it gets power from switch \"D\" inside the pushbutton selector switch, and it can also get power from the thermostat. It is unlikely that all three switches are bad, so the likelihood is that the timer motor itself is on the fritz.\n",
      "*  You should see continuity make and break at least once in the cycle; usually several times. If it doesn't, the internal contacts are bad; replace the timer. Repeat the process with the test leads between the W-V and the O-BK terminals. You can drive yourself crazy trying to figure out just exactly when during the cycle the switch is supposed to open and close. Leave that to the design engineers. Just satisfy yourself that the switch is, indeed, opening and closing at some time during the cycle.\n",
      "*  STARTING DRAIN CYCLE: Cold water can kill your wash quality. (see Chapter 3) So before letting any hot water into the tub, we must make sure the tub has no cold water left in it from the last wash. Therefore, in most designs, a new wash cycle starts with the pump operating for a minute or so in the \"drain\" mode. FILL CYCLE: An electric solenoid fill valve then opens to let hot water into the tub. The timer controls how long the solenoid valve stays open, which controls the water level. A flow-control washer built into the valve compensates for variations in the water supply pressure.\n",
      "*  TIMER DIAGNOSIS: If the timer drive motor is not advancing only in certain cycles, there may be a switch or thermostat that feeds it that is bad. See the example in section 6-1 and figure 6-C. If the timer is not advancing in all cycles, well, that's pretty obvious. Replace the timer or timer drive motor, or have it rebuilt as described below. Timers can be difficult to diagnose. The easiest way is to go through everything else in the system that's malfunctioning. If none of the other components are bad, then it may be the timer.\n",
      "*  Most designs use an anti-flood float switch to prevent accidental overflow during the fill cycle. WASH CYCLE: The pump then starts in the \"wash\" mode. Water is channelled to the spray arms which spray the hot water at the dishes. In some models, detergent is dispensed during the wash cycle. The timer controls when this occurs. In most designs, the dispenser is opened either by a solenoid or by a bi-metallic trigger. GE uses a cam on the timer to trip open the dispenser.\n",
      "\n",
      " Q: Explain the various cycles?\n",
      " A:\n",
      "====Answer\n",
      " There are four cycles- starting drain, fill, wash, and timer diagnosis. In the starting drain cycle, the pump operates for a minute or so in the \"drain\" mode. In the fill cycle, an electric solenoid fill valve opens to let hot water into the tub. The timer controls how long the solenoid valve stays open, which controls the water level. In the wash cycle, the pump then starts in the \"wash\" mode. Water is channelled to the spray arms which spray the hot water at the dishes. In some models, detergent is dispensed during the wash cycle. The timer controls when this occurs. Finally, in the timer diagnosis cycle, if the timer drive motor is not advancing only in certain cycles, there may be a switch or thermostat that feeds it that is bad.\n"
     ]
    }
   ],
   "source": [
    "response = answer_query_from_context(\"Explain the various cycles?\", df, document_embeddings, show_prompt=True)\n",
    "\n",
    "answer = response[0:len(response) + 1].split('A:')[-1].strip()\n",
    "\n",
    "print(f'====Answer\\n {answer}')"
   ]
  },
  {
   "cell_type": "code",
   "execution_count": 19,
   "metadata": {},
   "outputs": [
    {
     "name": "stdout",
     "output_type": "stream",
     "text": [
      "Answer the question as truthfully as possible using the provided context, and if the answer is not contained within the text below, say \"I don't know.\"\n",
      "\n",
      "Context:\n",
      "\n",
      "*  There are two general areas where you will commonly find water leaking from a dishwasher. The first is from around the door; water will generally show up on the kitchen floor in front of the dishwasher. The second is from some component under the tub. The most common sources are pump seals and water valves, though it really can come from just about anything else under there, such as heater mounts, float switches, dryer fans, hoses, etc.\n",
      "*  POOR WASH QUALITY: This is the most common complaint in a dishwasher. It covers a lot of different specific symptoms, from spotting, film or etching of the dishes to food left on dishes. It is discussed in detail in Chapter 3. NO POWER; MOTOR WON'T START: First check the house breaker or fuse. Next, make sure that the dishwasher is plugged into the correct wall socket. (See the note in section 5-2 for an explanation)\n",
      "*  A slow, under-tub leak may go years without being detected. Often the tile or linoleum in front of the dishwasher is slightly raised, and water does not flow uphill. A slow leak beneath the tub can rot a wooden floor or cabinetry. It can also cause odors, mildew, etc. Often the first sign you might see is water leaking under the cabinetry and into the space beneath the kitchen sink.\n",
      "*  NOTE: This Chapter assumes that the motor is running and you hear water whooshing around inside the machine! If not, go back to chapter 2 and troubleshoot ! Poor wash quality mainly involves heavy spotting and filming or etching of the dishes. It can usually be traced to cold water or excessively hot, hard or soft water, poor detergent, or inadequate drying. Washing dishes in a dishwasher is not just a matter of blowing hot water at them. It is not just simply a mechanical or hydraulic process. It is also a chemical process. The chemicals you use in your dishwasher, from detergent to rinse agent, are extremely critical. And the temperature of the water that dissolves and carries these chemicals is critical as well.\n",
      "*  The main reason dishwashers exist is that they allow dishes to be washed in water much hotter than you can use when washing dishes by hand. This allows greater grease-cutting and sterilization of the dishes. They are NOT made to operate under cold water conditions or to ingest your disgusting, moldy leftovers, no matter what the sales literature says. And using cheap soap and hard water (without making some adjustments) can shorten their lives considerably.\n",
      "\n",
      " Q: Why is my dishwasher leaking?\n",
      " A:\n",
      "====Answer\n",
      "\" There are two general areas where you will commonly find water leaking from a dishwasher. The first is from around the door; water will generally show up on the kitchen floor in front of the dishwasher. The second is from some component under the tub. The most common sources are pump seals and water valves, though it really can come from just about anything else under there, such as heater mounts, float switches, dryer fans, hoses, etc.\n"
     ]
    }
   ],
   "source": [
    "\n",
    "response = answer_query_from_context(\"Why is my dishwasher leaking?\", df, document_embeddings, show_prompt=True)\n",
    "\n",
    "answer = response[0:len(response) + 1].split('A:')[-1].strip()\n",
    "\n",
    "print(f'====Answer\\n\" {answer}')"
   ]
  },
  {
   "cell_type": "code",
   "execution_count": 20,
   "metadata": {},
   "outputs": [
    {
     "name": "stdout",
     "output_type": "stream",
     "text": [
      "Answer the question as truthfully as possible using the provided context, and if the answer is not contained within the text below, say \"I don't know.\"\n",
      "\n",
      "Context:\n",
      "\n",
      "*  Many household handymen will tackle just about any job, but are downright scared of electricity. It's true that you have to be extra careful around live circuits due to the danger of getting shocked. But there's no mystery or voodoo about what we'll be doing. I'll cut out most of the electric theory for you. If you're one of those folks who's a bit timid around electricity, all I can say is read on, and don't be too nervous. It will come to you.\n",
      "*  The solution is to replace the defective motor or switch. If it's the timer, you may be able to get a rebuilt one to save a few bucks. WATER LEAKING ONTO FLOOR: If water is coming out the front of the machine, it's usually leaky door seals, but there are a few other suspects. The wrong soap can cause suds, which can leak out even if the seals are good. There are also some designs which can develop a water jet that blows water past the door seal; this is discussed in Chapter 4. Check for these problems first. If you still suspect the door seal, try cleaning any accumulated detergent or other gunk from it. If you need to replace the seals, your parts dealer has a door seal kit. See Chapter 4 for a more in-depth discussion of these and other possible leak sources.\n",
      "*  obvious on any black plastic parts inside. This is primarily calcium. It can make plastic parts brittle and cause abrasion in moving parts, as well as spotting or filming on the dishes themselves. In extreme cases of hard-water build-up, run 1/2 cup of white vinegar through a single rinse-and-drain cycle, without any dishes in the machine. These are pretty specific product endorsements for me to make without getting paid to make them, don't you think? To be totally honest, there are other chemicals which may be \"good enough.\" But why bother? The \"good stuff\" only costs a few pennies more, and furthermore, it can be found in just about any grocery store in the nation.\n",
      "*  It seems like everyone I know has a different opinion about their dishwasher. Some seem to think that theirs is a Godsend and a lifesaver; others think it's a total waste of time, hot water and electricity. Truth is, everybody's right! Within their limitations, dishwashers can provide virtually sterile dishes, if that's what you need. Poorly used and poorly maintained, they can be a huge, inefficient pain in the neck.\n",
      "\n",
      " Q: What's the biggest thing to worry about?\n",
      " A:\n",
      "====Answer\n",
      "\" The biggest thing to worry about is getting shocked.\n"
     ]
    }
   ],
   "source": [
    "response = answer_query_from_context(\"What's the biggest thing to worry about?\", df, document_embeddings, show_prompt=True)\n",
    "\n",
    "answer = response[0:len(response) + 1].split('A:')[-1].strip()\n",
    "\n",
    "print(f'====Answer\\n\" {answer}')"
   ]
  },
  {
   "cell_type": "code",
   "execution_count": 23,
   "metadata": {},
   "outputs": [
    {
     "name": "stdout",
     "output_type": "stream",
     "text": [
      "Answer the question as truthfully as possible using the provided context, and if the answer is not contained within the text below, say \"I don't know.\"\n",
      "\n",
      "Context:\n",
      "\n",
      "*  There are two general areas where you will commonly find water leaking from a dishwasher. The first is from around the door; water will generally show up on the kitchen floor in front of the dishwasher. The second is from some component under the tub. The most common sources are pump seals and water valves, though it really can come from just about anything else under there, such as heater mounts, float switches, dryer fans, hoses, etc.\n",
      "*  A third source of water \"leakage\" (though it really isn't a leak) is from the air gap. The air gap is an anti-backflow device installed in the drain line, to prevent the dishwasher from accidentally siphoning fluid from your house's sewer line back into the dishwasher tub. If this air gap or the house's drain line becomes clogged, water can run out of the air vent, and generally it runs straight into your sink. Note, however, that this will only occur when the dishwasher is operating in the \"pumpout\" mode, trying to drain the tub. There is an illustration and discussion of the air gap in section 3-1.\n",
      "*  A slow, under-tub leak may go years without being detected. Often the tile or linoleum in front of the dishwasher is slightly raised, and water does not flow uphill. A slow leak beneath the tub can rot a wooden floor or cabinetry. It can also cause odors, mildew, etc. Often the first sign you might see is water leaking under the cabinetry and into the space beneath the kitchen sink.\n",
      "*  Pump seal leaks will show up as water dripping from the motor or pump housing. (Or from the pump pulley in Maytag machines.) It may also get slung around a bit from a rotating pump shaft. The solution is to rebuild the pump. In some designs, you pull the whole motor and pump unit and replace it with a new or rebuilt unit. See Chapter 5 for details. On rare occasions, the leak will be coming from the sealing washers around tub heater mounts, dryer blower gaskets, or other small tub penetrations. You need to replace the gasket or seal. Drain or recirculation hoses have been known to get old and brittle and crack open. Replace the hose.\n",
      "*  If water is coming from beneath the machine, it is usually coming from pump seals, but it could also be coming from a hose or from the fill or drain solenoid valve. Remove the kickplate and operate the machine while looking beneath it. Try to isolate the leak by watching where the water drips on the floor. Remember that there are live wires under there; don't stick your hands in there while the machine is plugged in. Diagnose and repair as described in chapters 4 or 5.\n",
      "\n",
      " Q: What are the sources of water leaks?\n",
      " A:\n",
      "====Answer\n",
      "\" The sources of water leaks are from around the door, from some component under the tub, and from the air gap.\n"
     ]
    }
   ],
   "source": [
    "response = answer_query_from_context(\"What are the sources of water leaks?\", df, document_embeddings, show_prompt=True)\n",
    "\n",
    "answer = response[0:len(response) + 1].split('A:')[-1].strip()\n",
    "\n",
    "print(f'====Answer\\n\" {answer}')"
   ]
  },
  {
   "cell_type": "code",
   "execution_count": 22,
   "metadata": {},
   "outputs": [
    {
     "name": "stdout",
     "output_type": "stream",
     "text": [
      "Answer the question as truthfully as possible using the provided context, and if the answer is not contained within the text below, say \"I don't know.\"\n",
      "\n",
      "Context:\n",
      "\n",
      "*  If they genuinely try to help you fix it yourself, and you find that you're unable to, they may be the best place to look for service. Here's a hot tip: after what I just said, if they sold you this book, then I'll just about guarantee they're genuinely interested in helping do-it-yourselfers. When you go into the store, have ready the make, model and serial number from the nameplate of the dishwasher.\n",
      "*  Find yourself a good appliance parts dealer. You can find them in the yellow pages under the following headings: â¢ Appliances, Household, Major â¢ Appliances, Parts and Supplies â¢ Dishwashers, Domestic â¢ Appliances, Household, Repair and Service Call a few of them and ask if they are a dishwasher repair service, or if they sell parts, or both. Ask them if they offer free advice with the parts they sell (Occasionally, stores that offer both parts and service will not want to give you advice.) Often the parts counter men are ex-technicians who got tired of the pressures of in-home service. They can be your best friends. However, you don't want to badger them with too many questions, so know your basics before you start asking questions.\n",
      "*  Some parts houses may offer service, too. Be careful! There may be a conflict of interest. They may try to talk you out of even trying to fix your own dishwasher. They'll tell you it's too complicated, then in the same breath \"guide\" you to their service department. Who are you gonna believe, me or them? Not all service and parts places are this way, however. If you observe such buildup, periodically put about 1/4 to 1/2 cup of \"Lime-Away\"â¢ or Citric Acid (usually available at drugstores) in the machine and run it through a wash cycle, with or without dishes. Repeat as often as necessary.\n",
      "*  Your appliance parts dealer has an impeller and seal kit for these machines. OLDER MODELS: The pump is disassembled in place, without removing the motor.: Once the pump has been disassembled, the motor can be removed with the machine in place, but it can be a difficult job. The screws are hard to get to. Try it, but if you have too much trouble, pull out the machine. TECH TIPS: These are pretty straightforward machines to tear down and rebuild. Note carefully how everything comes off and in what order.\n",
      "\n",
      " Q: Tell me a bit about the warranty\n",
      " A:\n",
      "====Answer\n",
      "\" I don't know.\n"
     ]
    }
   ],
   "source": [
    "response = answer_query_from_context(\"Tell me a bit about the warranty\", df, document_embeddings, show_prompt=True)\n",
    "\n",
    "answer = response[0:len(response) + 1].split('A:')[-1].strip()\n",
    "\n",
    "print(f'====Answer\\n\" {answer}')"
   ]
  }
 ],
 "metadata": {
  "kernelspec": {
   "display_name": "Python 3.9.13 ('openai')",
   "language": "python",
   "name": "python3"
  },
  "language_info": {
   "codemirror_mode": {
    "name": "ipython",
    "version": 3
   },
   "file_extension": ".py",
   "mimetype": "text/x-python",
   "name": "python",
   "nbconvert_exporter": "python",
   "pygments_lexer": "ipython3",
   "version": "3.9.13"
  },
  "orig_nbformat": 4,
  "vscode": {
   "interpreter": {
    "hash": "3c5ba64e8a2a59a6be0dd5b8a0149005a96dade111bc9e6b7c5d65266a44d405"
   }
  }
 },
 "nbformat": 4,
 "nbformat_minor": 2
}
